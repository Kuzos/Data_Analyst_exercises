{
 "cells": [
  {
   "cell_type": "markdown",
   "id": "45f02fbe-ca7f-42b1-92cf-5dbc1c4b7fd0",
   "metadata": {},
   "source": [
    "Exercise 1\n",
    "\n",
    "The command\n",
    "\n",
    "ls -lS /usr/bin | grep '.* c.*'\n",
    "\n",
    "will list all the files in the directory /usr/bin whose name starts with the letter c, including information such as permissions, ownership, site, creation time and name of each file, and will order them in the output from the biggest to the smallest.\n",
    "\n",
    "Using the subprocess module, use the command above to obtain and then print the list of files in the /usr/bin directory. For instance, one file in the output might be represented as\n",
    "-rwxr-xr-x 1 root root     43416 Sep  5  2019 cat\n",
    "\n",
    "Parsing the output returned by subprocess, print the list of files for which the year is 2022.\n"
   ]
  },
  {
   "cell_type": "code",
   "execution_count": 1,
   "id": "cd0ce70d-2027-471d-a54a-dc1c976d489e",
   "metadata": {
    "tags": []
   },
   "outputs": [
    {
     "name": "stdout",
     "output_type": "stream",
     "text": [
      "The given shell command gives the following output:\n",
      " -rwxr-xr-x 1 root root      303512 Jan 16  2023 cvtsudoers\n",
      "-rwxr-xr-x 1 root root      141824 Feb  7  2022 cp\n",
      "-rwxr-xr-x 1 root root      109056 Feb  7  2022 csplit\n",
      "-rwxr-xr-x 1 root root      101368 Feb  9  2022 ctwill\n",
      "-rwxr-xr-x 1 root root       97272 Feb  9  2022 cweave\n",
      "-rwsr-xr-x 1 root root       72712 Nov 24  2022 chfn\n",
      "-rwxr-sr-x 1 root shadow     72184 Nov 24  2022 chage\n",
      "-rwxr-xr-x 1 root root       59904 Feb  7  2022 chcon\n",
      "-rwxr-xr-x 1 root root       59904 Feb  7  2022 chown\n",
      "-rwxr-xr-x 1 root root       55808 Feb  7  2022 chgrp\n",
      "-rwxr-xr-x 1 root root       55808 Feb  7  2022 chmod\n",
      "-rwxr-xr-x 1 root root       52128 Feb  9  2022 ctangle\n",
      "-rwsr-xr-x 1 root root       44808 Nov 24  2022 chsh\n",
      "-rwxr-xr-x 1 root root       43408 Mar 23  2022 cmp\n",
      "-rwxr-xr-x 1 root root       39424 Feb  7  2022 cut\n",
      "-rwxr-xr-x 1 root root       35336 Feb  7  2022 comm\n",
      "-rwxr-xr-x 1 root root       35280 Feb  7  2022 cat\n",
      "-rwxr-xr-x 1 root root       35232 Feb  7  2022 cksum\n",
      "-rwxr-xr-x 1 root root       31104 Feb  9  2022 chkdvifont\n",
      "-rwxr-xr-x 1 root root       27000 Feb 21  2022 chrt\n",
      "-rwxr-xr-x 1 root root       22904 Feb 21  2022 choom\n",
      "-rwxr-xr-x 1 root root       18832 Feb  9  2022 ctie\n",
      "-rwxr-xr-x 1 root root       18736 Feb  9  2022 ctwill-twinx\n",
      "-rwxr-xr-x 1 root root       15375 Oct  4  2022 corelist\n",
      "-rwxr-xr-x 1 root root       14656 Jun  1  2022 chattr\n",
      "-rwxr-xr-x 1 root root       14656 Jan 17  2022 clear\n",
      "-rwxr-xr-x 1 root root       14640 Feb  9  2022 ctwill-refsort\n",
      "-rwxr-xr-x 1 root root       14568 Jan  6  2022 clear_console\n",
      "-rwxr-xr-x 1 root root        8381 Oct  4  2022 cpan5.34-x86_64-linux-gnu\n",
      "-rwxr-xr-x 1 root root        8360 Oct  4  2022 cpan\n",
      "-rwxr-xr-x 1 root root        6963 Feb  6 17:57 c_rehash\n",
      "-rwxr-xr-x 1 root root         454 Nov 17  2020 c99-gcc\n",
      "-rwxr-xr-x 1 root root         428 Nov 17  2020 c89-gcc\n",
      "lrwxrwxrwx 1 root root          57 Feb  4  2022 cachepic -> ../share/texlive/texmf-dist/scripts/cachepic/cachepic.tlu\n",
      "lrwxrwxrwx 1 root root          24 Nov  2  2022 c++filt -> x86_64-linux-gnu-c++filt\n",
      "lrwxrwxrwx 1 root root          23 Apr 30  2022 cpp-11 -> x86_64-linux-gnu-cpp-11\n",
      "lrwxrwxrwx 1 root root          21 Feb 27 03:25 c++ -> /etc/alternatives/c++\n",
      "lrwxrwxrwx 1 root root          21 Feb 27 03:25 c89 -> /etc/alternatives/c89\n",
      "lrwxrwxrwx 1 root root          21 Feb 27 03:25 c99 -> /etc/alternatives/c99\n",
      "lrwxrwxrwx 1 root root          20 Feb 27 03:25 cc -> /etc/alternatives/cc\n",
      "lrwxrwxrwx 1 root root           6 Aug  5  2021 cpp -> cpp-11\n",
      "lrwxrwxrwx 1 root root           6 Aug  5  2021 x86_64-linux-gnu-cpp -> cpp-11\n",
      "lrwxrwxrwx 1 root root           3 Jan 17  2022 captoinfo -> tic\n",
      "\n"
     ]
    }
   ],
   "source": [
    "\n",
    "import subprocess #import subprocess which allows us to write and execute shell's commands from Python. \n",
    "\n",
    "sp = subprocess.run('ls -lS /usr/bin | grep \".* c.*\"', shell=True,capture_output=True, text=True)\n",
    "print('The given shell command gives the following output:' + \"\\n\",sp.stdout)"
   ]
  },
  {
   "cell_type": "code",
   "execution_count": 2,
   "id": "3a41ee2f-9c63-49c9-bfd9-7f18fb45458d",
   "metadata": {
    "tags": []
   },
   "outputs": [
    {
     "name": "stdout",
     "output_type": "stream",
     "text": [
      "For following line the year is 2022:\n",
      " -rwxr-xr-x 1 root root      141824 Feb  7  2022 cp\n",
      "For following line the year is 2022:\n",
      " -rwxr-xr-x 1 root root      109056 Feb  7  2022 csplit\n",
      "For following line the year is 2022:\n",
      " -rwxr-xr-x 1 root root      101368 Feb  9  2022 ctwill\n",
      "For following line the year is 2022:\n",
      " -rwxr-xr-x 1 root root       97272 Feb  9  2022 cweave\n",
      "For following line the year is 2022:\n",
      " -rwsr-xr-x 1 root root       72712 Nov 24  2022 chfn\n",
      "For following line the year is 2022:\n",
      " -rwxr-sr-x 1 root shadow     72184 Nov 24  2022 chage\n",
      "For following line the year is 2022:\n",
      " -rwxr-xr-x 1 root root       59904 Feb  7  2022 chcon\n",
      "For following line the year is 2022:\n",
      " -rwxr-xr-x 1 root root       59904 Feb  7  2022 chown\n",
      "For following line the year is 2022:\n",
      " -rwxr-xr-x 1 root root       55808 Feb  7  2022 chgrp\n",
      "For following line the year is 2022:\n",
      " -rwxr-xr-x 1 root root       55808 Feb  7  2022 chmod\n",
      "For following line the year is 2022:\n",
      " -rwxr-xr-x 1 root root       52128 Feb  9  2022 ctangle\n",
      "For following line the year is 2022:\n",
      " -rwsr-xr-x 1 root root       44808 Nov 24  2022 chsh\n",
      "For following line the year is 2022:\n",
      " -rwxr-xr-x 1 root root       43408 Mar 23  2022 cmp\n",
      "For following line the year is 2022:\n",
      " -rwxr-xr-x 1 root root       39424 Feb  7  2022 cut\n",
      "For following line the year is 2022:\n",
      " -rwxr-xr-x 1 root root       35336 Feb  7  2022 comm\n",
      "For following line the year is 2022:\n",
      " -rwxr-xr-x 1 root root       35280 Feb  7  2022 cat\n",
      "For following line the year is 2022:\n",
      " -rwxr-xr-x 1 root root       35232 Feb  7  2022 cksum\n",
      "For following line the year is 2022:\n",
      " -rwxr-xr-x 1 root root       31104 Feb  9  2022 chkdvifont\n",
      "For following line the year is 2022:\n",
      " -rwxr-xr-x 1 root root       27000 Feb 21  2022 chrt\n",
      "For following line the year is 2022:\n",
      " -rwxr-xr-x 1 root root       22904 Feb 21  2022 choom\n",
      "For following line the year is 2022:\n",
      " -rwxr-xr-x 1 root root       18832 Feb  9  2022 ctie\n",
      "For following line the year is 2022:\n",
      " -rwxr-xr-x 1 root root       18736 Feb  9  2022 ctwill-twinx\n",
      "For following line the year is 2022:\n",
      " -rwxr-xr-x 1 root root       15375 Oct  4  2022 corelist\n",
      "For following line the year is 2022:\n",
      " -rwxr-xr-x 1 root root       14656 Jun  1  2022 chattr\n",
      "For following line the year is 2022:\n",
      " -rwxr-xr-x 1 root root       14656 Jan 17  2022 clear\n",
      "For following line the year is 2022:\n",
      " -rwxr-xr-x 1 root root       14640 Feb  9  2022 ctwill-refsort\n",
      "For following line the year is 2022:\n",
      " -rwxr-xr-x 1 root root       14568 Jan  6  2022 clear_console\n",
      "For following line the year is 2022:\n",
      " -rwxr-xr-x 1 root root        8381 Oct  4  2022 cpan5.34-x86_64-linux-gnu\n",
      "For following line the year is 2022:\n",
      " -rwxr-xr-x 1 root root        8360 Oct  4  2022 cpan\n",
      "For following line the year is 2022:\n",
      " lrwxrwxrwx 1 root root          57 Feb  4  2022 cachepic -> ../share/texlive/texmf-dist/scripts/cachepic/cachepic.tlu\n",
      "For following line the year is 2022:\n",
      " lrwxrwxrwx 1 root root          24 Nov  2  2022 c++filt -> x86_64-linux-gnu-c++filt\n",
      "For following line the year is 2022:\n",
      " lrwxrwxrwx 1 root root          23 Apr 30  2022 cpp-11 -> x86_64-linux-gnu-cpp-11\n",
      "For following line the year is 2022:\n",
      " lrwxrwxrwx 1 root root           3 Jan 17  2022 captoinfo -> tic\n",
      "At total there are this 33  lines with year 2022\n"
     ]
    }
   ],
   "source": [
    "file=sp.stdout.split(\"\\n\") #This is to structure output line by line \n",
    "#print(file)               #can be checked here\n",
    "count=0\n",
    "for line in file:          #for loop through the whole file to inspect how file is structured\n",
    "    #print(\"This is how line looks like:\",line)            #how each line looks like (we can notice a specific order and structure of each lines)\n",
    "    #print(\"This is how long line is:\",len(line))       #checking lenght of lines because they are different\n",
    "    #print(\"This is position of substring in line:\",line.find(\"2022\"))  \n",
    "    #checking if line has \"2022\" in it,it gives number of substring where it starts for example(43) and if it is -1 it means its not found.\n",
    "    #we can clearly see that everywhere where there is 2022 they start with number 43 so that means we can extract with index position, because until that point all lenghts are same\n",
    "    search=line.find(\"2022\")\n",
    "    if search!=-1:\n",
    "        count+=1\n",
    "        print(\"For following line the year is 2022:\"+\"\\n\",line)\n",
    "print(\"At total there are this %s  lines with year 2022\" %count)   "
   ]
  },
  {
   "cell_type": "markdown",
   "id": "6ace557e-0d68-4700-bd8f-08655ad687cb",
   "metadata": {},
   "source": [
    "Exercise 2\n",
    "\n",
    "Using CSV file called diabetes.csv available on Kaggle. It contains some data provided by the Indian National Institute of Diabetes and Digestive and Kidney Diseases. This data is related to female patients. For each patient, several diagnostic measurements have been recorded in the CSV columns. The last column (\"Outcome\") is 0 for patients who did not develop diabetes, and 1 for patients who did.\n",
    "\n",
    "Read the diabetes DB into a pandas dataframe. How many patients developed diabetes and how many did not?\n",
    "\n",
    "For all columns, excluding the \"Outcome\" column, find the average value for patients who developed diabetes, and the average value for patients who did not. Then, for each column, compute the percentual increase between these two average values. For example, for the column \"Glucose\", you should compute the ratio between the average of the Glucose column for patients who developed diabetes vs. the average of the same column for those who did not, and get the percentual increase. For instance, if for a certain column you get an average of 141.26 for patients who developed diabetes and an average of 109.98 for patients who did not, the percentual increase would be ((141.98/109.98)-1)*100 = 29.1%.\n",
    "\n",
    "Using pd.cut(), divide the 'Age' column in 3 bins, called \"Young\", \"Middle\" and \"Old\", attributing these labels to a new column, called \"age_group\". Then create two bar plots: one for diabetic patients only, where on the x asis there are these 3 bins, and on the y axis there is the the average value of Insulin. And then a similar plot, but this time for non-diabetic patients only. In other words, the two plots will display the average value of Insulin for diabetic and non-diabetic patients, divided by the three age groups."
   ]
  },
  {
   "cell_type": "code",
   "execution_count": 3,
   "id": "921d9253-dce4-43e6-8040-a1c1948c4892",
   "metadata": {
    "tags": []
   },
   "outputs": [],
   "source": [
    "import pandas as pd         #importing pandas\n",
    "df=pd.read_csv('diabetes.csv')  #reading csv file"
   ]
  },
  {
   "cell_type": "code",
   "execution_count": 4,
   "id": "09b2df7b-852d-4c85-b5dd-8a5788288704",
   "metadata": {
    "tags": []
   },
   "outputs": [
    {
     "data": {
      "text/html": [
       "<div>\n",
       "<style scoped>\n",
       "    .dataframe tbody tr th:only-of-type {\n",
       "        vertical-align: middle;\n",
       "    }\n",
       "\n",
       "    .dataframe tbody tr th {\n",
       "        vertical-align: top;\n",
       "    }\n",
       "\n",
       "    .dataframe thead th {\n",
       "        text-align: right;\n",
       "    }\n",
       "</style>\n",
       "<table border=\"1\" class=\"dataframe\">\n",
       "  <thead>\n",
       "    <tr style=\"text-align: right;\">\n",
       "      <th></th>\n",
       "      <th>Pregnancies</th>\n",
       "      <th>Glucose</th>\n",
       "      <th>BloodPressure</th>\n",
       "      <th>SkinThickness</th>\n",
       "      <th>Insulin</th>\n",
       "      <th>BMI</th>\n",
       "      <th>DiabetesPedigreeFunction</th>\n",
       "      <th>Age</th>\n",
       "      <th>Outcome</th>\n",
       "    </tr>\n",
       "  </thead>\n",
       "  <tbody>\n",
       "    <tr>\n",
       "      <th>0</th>\n",
       "      <td>6</td>\n",
       "      <td>148</td>\n",
       "      <td>72</td>\n",
       "      <td>35</td>\n",
       "      <td>0</td>\n",
       "      <td>33.6</td>\n",
       "      <td>0.627</td>\n",
       "      <td>50</td>\n",
       "      <td>1</td>\n",
       "    </tr>\n",
       "    <tr>\n",
       "      <th>1</th>\n",
       "      <td>1</td>\n",
       "      <td>85</td>\n",
       "      <td>66</td>\n",
       "      <td>29</td>\n",
       "      <td>0</td>\n",
       "      <td>26.6</td>\n",
       "      <td>0.351</td>\n",
       "      <td>31</td>\n",
       "      <td>0</td>\n",
       "    </tr>\n",
       "    <tr>\n",
       "      <th>2</th>\n",
       "      <td>8</td>\n",
       "      <td>183</td>\n",
       "      <td>64</td>\n",
       "      <td>0</td>\n",
       "      <td>0</td>\n",
       "      <td>23.3</td>\n",
       "      <td>0.672</td>\n",
       "      <td>32</td>\n",
       "      <td>1</td>\n",
       "    </tr>\n",
       "    <tr>\n",
       "      <th>3</th>\n",
       "      <td>1</td>\n",
       "      <td>89</td>\n",
       "      <td>66</td>\n",
       "      <td>23</td>\n",
       "      <td>94</td>\n",
       "      <td>28.1</td>\n",
       "      <td>0.167</td>\n",
       "      <td>21</td>\n",
       "      <td>0</td>\n",
       "    </tr>\n",
       "    <tr>\n",
       "      <th>4</th>\n",
       "      <td>0</td>\n",
       "      <td>137</td>\n",
       "      <td>40</td>\n",
       "      <td>35</td>\n",
       "      <td>168</td>\n",
       "      <td>43.1</td>\n",
       "      <td>2.288</td>\n",
       "      <td>33</td>\n",
       "      <td>1</td>\n",
       "    </tr>\n",
       "  </tbody>\n",
       "</table>\n",
       "</div>"
      ],
      "text/plain": [
       "   Pregnancies  Glucose  BloodPressure  SkinThickness  Insulin   BMI  \\\n",
       "0            6      148             72             35        0  33.6   \n",
       "1            1       85             66             29        0  26.6   \n",
       "2            8      183             64              0        0  23.3   \n",
       "3            1       89             66             23       94  28.1   \n",
       "4            0      137             40             35      168  43.1   \n",
       "\n",
       "   DiabetesPedigreeFunction  Age  Outcome  \n",
       "0                     0.627   50        1  \n",
       "1                     0.351   31        0  \n",
       "2                     0.672   32        1  \n",
       "3                     0.167   21        0  \n",
       "4                     2.288   33        1  "
      ]
     },
     "execution_count": 4,
     "metadata": {},
     "output_type": "execute_result"
    }
   ],
   "source": [
    "df.head() # taking look at dataframe"
   ]
  },
  {
   "cell_type": "code",
   "execution_count": 5,
   "id": "d16f6e9b-5142-447e-8d97-d5ea971a3941",
   "metadata": {
    "tags": []
   },
   "outputs": [
    {
     "data": {
      "text/plain": [
       "(768, 9)"
      ]
     },
     "execution_count": 5,
     "metadata": {},
     "output_type": "execute_result"
    }
   ],
   "source": [
    "df.shape # 768 rows and 9 columns "
   ]
  },
  {
   "cell_type": "code",
   "execution_count": 6,
   "id": "e6024589-464e-4f0b-8a90-c8ae974bb5d1",
   "metadata": {
    "tags": []
   },
   "outputs": [],
   "source": [
    "All_positive=df.query('Outcome==1') # query where we took only those who had outcome 1"
   ]
  },
  {
   "cell_type": "code",
   "execution_count": 7,
   "id": "07f9c954-c0f7-4ef8-95e4-81051726a4c3",
   "metadata": {
    "tags": []
   },
   "outputs": [
    {
     "data": {
      "text/html": [
       "<div>\n",
       "<style scoped>\n",
       "    .dataframe tbody tr th:only-of-type {\n",
       "        vertical-align: middle;\n",
       "    }\n",
       "\n",
       "    .dataframe tbody tr th {\n",
       "        vertical-align: top;\n",
       "    }\n",
       "\n",
       "    .dataframe thead th {\n",
       "        text-align: right;\n",
       "    }\n",
       "</style>\n",
       "<table border=\"1\" class=\"dataframe\">\n",
       "  <thead>\n",
       "    <tr style=\"text-align: right;\">\n",
       "      <th></th>\n",
       "      <th>Pregnancies</th>\n",
       "      <th>Glucose</th>\n",
       "      <th>BloodPressure</th>\n",
       "      <th>SkinThickness</th>\n",
       "      <th>Insulin</th>\n",
       "      <th>BMI</th>\n",
       "      <th>DiabetesPedigreeFunction</th>\n",
       "      <th>Age</th>\n",
       "      <th>Outcome</th>\n",
       "    </tr>\n",
       "  </thead>\n",
       "  <tbody>\n",
       "    <tr>\n",
       "      <th>0</th>\n",
       "      <td>6</td>\n",
       "      <td>148</td>\n",
       "      <td>72</td>\n",
       "      <td>35</td>\n",
       "      <td>0</td>\n",
       "      <td>33.6</td>\n",
       "      <td>0.627</td>\n",
       "      <td>50</td>\n",
       "      <td>1</td>\n",
       "    </tr>\n",
       "    <tr>\n",
       "      <th>2</th>\n",
       "      <td>8</td>\n",
       "      <td>183</td>\n",
       "      <td>64</td>\n",
       "      <td>0</td>\n",
       "      <td>0</td>\n",
       "      <td>23.3</td>\n",
       "      <td>0.672</td>\n",
       "      <td>32</td>\n",
       "      <td>1</td>\n",
       "    </tr>\n",
       "    <tr>\n",
       "      <th>4</th>\n",
       "      <td>0</td>\n",
       "      <td>137</td>\n",
       "      <td>40</td>\n",
       "      <td>35</td>\n",
       "      <td>168</td>\n",
       "      <td>43.1</td>\n",
       "      <td>2.288</td>\n",
       "      <td>33</td>\n",
       "      <td>1</td>\n",
       "    </tr>\n",
       "    <tr>\n",
       "      <th>6</th>\n",
       "      <td>3</td>\n",
       "      <td>78</td>\n",
       "      <td>50</td>\n",
       "      <td>32</td>\n",
       "      <td>88</td>\n",
       "      <td>31.0</td>\n",
       "      <td>0.248</td>\n",
       "      <td>26</td>\n",
       "      <td>1</td>\n",
       "    </tr>\n",
       "    <tr>\n",
       "      <th>8</th>\n",
       "      <td>2</td>\n",
       "      <td>197</td>\n",
       "      <td>70</td>\n",
       "      <td>45</td>\n",
       "      <td>543</td>\n",
       "      <td>30.5</td>\n",
       "      <td>0.158</td>\n",
       "      <td>53</td>\n",
       "      <td>1</td>\n",
       "    </tr>\n",
       "  </tbody>\n",
       "</table>\n",
       "</div>"
      ],
      "text/plain": [
       "   Pregnancies  Glucose  BloodPressure  SkinThickness  Insulin   BMI  \\\n",
       "0            6      148             72             35        0  33.6   \n",
       "2            8      183             64              0        0  23.3   \n",
       "4            0      137             40             35      168  43.1   \n",
       "6            3       78             50             32       88  31.0   \n",
       "8            2      197             70             45      543  30.5   \n",
       "\n",
       "   DiabetesPedigreeFunction  Age  Outcome  \n",
       "0                     0.627   50        1  \n",
       "2                     0.672   32        1  \n",
       "4                     2.288   33        1  \n",
       "6                     0.248   26        1  \n",
       "8                     0.158   53        1  "
      ]
     },
     "execution_count": 7,
     "metadata": {},
     "output_type": "execute_result"
    }
   ],
   "source": [
    "All_positive.head() #checking dataframe"
   ]
  },
  {
   "cell_type": "code",
   "execution_count": 8,
   "id": "bc835dc9-44c8-44f5-a205-273d5f09bf3d",
   "metadata": {
    "tags": []
   },
   "outputs": [
    {
     "data": {
      "text/plain": [
       "array([1])"
      ]
     },
     "execution_count": 8,
     "metadata": {},
     "output_type": "execute_result"
    }
   ],
   "source": [
    "All_positive['Outcome'].unique() #confirming that we only have 1 unique value in the Outcome"
   ]
  },
  {
   "cell_type": "code",
   "execution_count": 9,
   "id": "404a74b6-ac25-4906-9f3a-22f854f9cc29",
   "metadata": {
    "tags": []
   },
   "outputs": [
    {
     "name": "stdout",
     "output_type": "stream",
     "text": [
      "There are 268 patients that developed diabetes\n",
      "There are 500 patients that didnt developed diabetes\n"
     ]
    }
   ],
   "source": [
    "print(\"There are %s patients that developed diabetes\" % All_positive['Outcome'].count() )\n",
    "All_negative=df.query('Outcome==0')  #we could done this also by substracting number of patients in original dataframe 768-268=500!\n",
    "print(\"There are %s patients that didnt developed diabetes\" % All_negative['Outcome'].count() ) "
   ]
  },
  {
   "cell_type": "code",
   "execution_count": 10,
   "id": "a5befe8f-fb07-46a0-9c97-323c5a0a8e30",
   "metadata": {
    "tags": []
   },
   "outputs": [
    {
     "data": {
      "text/plain": [
       "Index(['Pregnancies', 'Glucose', 'BloodPressure', 'SkinThickness', 'Insulin',\n",
       "       'BMI', 'DiabetesPedigreeFunction', 'Age', 'Outcome'],\n",
       "      dtype='object')"
      ]
     },
     "execution_count": 10,
     "metadata": {},
     "output_type": "execute_result"
    }
   ],
   "source": [
    "All_positive.columns #generating names of columns"
   ]
  },
  {
   "cell_type": "code",
   "execution_count": 12,
   "id": "75bfe4ba-febb-4850-afb2-da23753520e3",
   "metadata": {
    "tags": []
   },
   "outputs": [],
   "source": [
    "Avg_positive_class=All_positive.drop(['Outcome'],axis=1) #this will generate dataframe for creating means of all columns expect Outcome!\n",
    "#here we just deleteed column Outcome\n",
    "Avg_negative_class=All_negative.drop(['Outcome'],axis=1) #same for negative class dataframe!"
   ]
  },
  {
   "cell_type": "code",
   "execution_count": 13,
   "id": "657c1fda-3a1c-456f-9e80-33c2d8d09e86",
   "metadata": {
    "tags": []
   },
   "outputs": [
    {
     "data": {
      "text/html": [
       "<div>\n",
       "<style scoped>\n",
       "    .dataframe tbody tr th:only-of-type {\n",
       "        vertical-align: middle;\n",
       "    }\n",
       "\n",
       "    .dataframe tbody tr th {\n",
       "        vertical-align: top;\n",
       "    }\n",
       "\n",
       "    .dataframe thead th {\n",
       "        text-align: right;\n",
       "    }\n",
       "</style>\n",
       "<table border=\"1\" class=\"dataframe\">\n",
       "  <thead>\n",
       "    <tr style=\"text-align: right;\">\n",
       "      <th></th>\n",
       "      <th>Pregnancies</th>\n",
       "      <th>Glucose</th>\n",
       "      <th>BloodPressure</th>\n",
       "      <th>SkinThickness</th>\n",
       "      <th>Insulin</th>\n",
       "      <th>BMI</th>\n",
       "      <th>DiabetesPedigreeFunction</th>\n",
       "      <th>Age</th>\n",
       "    </tr>\n",
       "  </thead>\n",
       "  <tbody>\n",
       "    <tr>\n",
       "      <th>0</th>\n",
       "      <td>6</td>\n",
       "      <td>148</td>\n",
       "      <td>72</td>\n",
       "      <td>35</td>\n",
       "      <td>0</td>\n",
       "      <td>33.6</td>\n",
       "      <td>0.627</td>\n",
       "      <td>50</td>\n",
       "    </tr>\n",
       "    <tr>\n",
       "      <th>2</th>\n",
       "      <td>8</td>\n",
       "      <td>183</td>\n",
       "      <td>64</td>\n",
       "      <td>0</td>\n",
       "      <td>0</td>\n",
       "      <td>23.3</td>\n",
       "      <td>0.672</td>\n",
       "      <td>32</td>\n",
       "    </tr>\n",
       "    <tr>\n",
       "      <th>4</th>\n",
       "      <td>0</td>\n",
       "      <td>137</td>\n",
       "      <td>40</td>\n",
       "      <td>35</td>\n",
       "      <td>168</td>\n",
       "      <td>43.1</td>\n",
       "      <td>2.288</td>\n",
       "      <td>33</td>\n",
       "    </tr>\n",
       "    <tr>\n",
       "      <th>6</th>\n",
       "      <td>3</td>\n",
       "      <td>78</td>\n",
       "      <td>50</td>\n",
       "      <td>32</td>\n",
       "      <td>88</td>\n",
       "      <td>31.0</td>\n",
       "      <td>0.248</td>\n",
       "      <td>26</td>\n",
       "    </tr>\n",
       "    <tr>\n",
       "      <th>8</th>\n",
       "      <td>2</td>\n",
       "      <td>197</td>\n",
       "      <td>70</td>\n",
       "      <td>45</td>\n",
       "      <td>543</td>\n",
       "      <td>30.5</td>\n",
       "      <td>0.158</td>\n",
       "      <td>53</td>\n",
       "    </tr>\n",
       "  </tbody>\n",
       "</table>\n",
       "</div>"
      ],
      "text/plain": [
       "   Pregnancies  Glucose  BloodPressure  SkinThickness  Insulin   BMI  \\\n",
       "0            6      148             72             35        0  33.6   \n",
       "2            8      183             64              0        0  23.3   \n",
       "4            0      137             40             35      168  43.1   \n",
       "6            3       78             50             32       88  31.0   \n",
       "8            2      197             70             45      543  30.5   \n",
       "\n",
       "   DiabetesPedigreeFunction  Age  \n",
       "0                     0.627   50  \n",
       "2                     0.672   32  \n",
       "4                     2.288   33  \n",
       "6                     0.248   26  \n",
       "8                     0.158   53  "
      ]
     },
     "execution_count": 13,
     "metadata": {},
     "output_type": "execute_result"
    }
   ],
   "source": [
    "Avg_positive_class.head() #checking if dataframe is correct"
   ]
  },
  {
   "cell_type": "code",
   "execution_count": 14,
   "id": "f847ca69-2a6f-422f-8723-4d982cdeecf9",
   "metadata": {
    "tags": []
   },
   "outputs": [
    {
     "data": {
      "text/plain": [
       "(500, 8)"
      ]
     },
     "execution_count": 14,
     "metadata": {},
     "output_type": "execute_result"
    }
   ],
   "source": [
    "Avg_negative_class.shape #checking if dataframe is right size"
   ]
  },
  {
   "cell_type": "code",
   "execution_count": 15,
   "id": "6e151cc6-617d-48e0-a72f-2abecc6732d8",
   "metadata": {
    "tags": []
   },
   "outputs": [],
   "source": [
    "positive_means=Avg_positive_class.mean() #taking means of all columns\n",
    "negative_means=Avg_negative_class.mean() #taking means of all columns"
   ]
  },
  {
   "cell_type": "code",
   "execution_count": 16,
   "id": "9a7af082-28f0-4ad0-bbe0-0479992987e2",
   "metadata": {
    "tags": []
   },
   "outputs": [
    {
     "data": {
      "text/plain": [
       "Pregnancies                   4.865672\n",
       "Glucose                     141.257463\n",
       "BloodPressure                70.824627\n",
       "SkinThickness                22.164179\n",
       "Insulin                     100.335821\n",
       "BMI                          35.142537\n",
       "DiabetesPedigreeFunction      0.550500\n",
       "Age                          37.067164\n",
       "dtype: float64"
      ]
     },
     "execution_count": 16,
     "metadata": {},
     "output_type": "execute_result"
    }
   ],
   "source": [
    "positive_means #checking how it looks"
   ]
  },
  {
   "cell_type": "code",
   "execution_count": 17,
   "id": "ca16d39f-33fb-4aa5-a7c7-117fa86a0540",
   "metadata": {
    "tags": []
   },
   "outputs": [
    {
     "data": {
      "text/plain": [
       "Pregnancies                   3.298000\n",
       "Glucose                     109.980000\n",
       "BloodPressure                68.184000\n",
       "SkinThickness                19.664000\n",
       "Insulin                      68.792000\n",
       "BMI                          30.304200\n",
       "DiabetesPedigreeFunction      0.429734\n",
       "Age                          31.190000\n",
       "dtype: float64"
      ]
     },
     "execution_count": 17,
     "metadata": {},
     "output_type": "execute_result"
    }
   ],
   "source": [
    "negative_means #checking how it looks \n",
    "#we can extract values like this negative_means[0]"
   ]
  },
  {
   "cell_type": "code",
   "execution_count": 18,
   "id": "c517e62f-6a0f-4f62-a1b6-3187576360b4",
   "metadata": {
    "tags": []
   },
   "outputs": [
    {
     "name": "stdout",
     "output_type": "stream",
     "text": [
      "This is the list of the increased percentual changes: [47.53400975715722, 28.43922775647132, 3.872795473529922, 12.71449910739224, 45.853908732879376, 15.965896850709926, 28.102500616660507, 18.843104133069822]\n",
      "Pregnancies percentual increase is 47.53400975715722 \n",
      "Glucose percentual increase is 28.43922775647132 \n",
      "BloodPressure percentual increase is 3.872795473529922 \n",
      "SkinThickness percentual increase is 12.71449910739224 \n",
      "Insulin percentual increase is 45.853908732879376 \n",
      "BMI percentual increase is 15.965896850709926 \n",
      "DiabetesPedigreeFunction percentual increase is 28.102500616660507 \n",
      "Age percentual increase is 18.843104133069822 \n"
     ]
    }
   ],
   "source": [
    "#Formula (( mean for positive 141.98/ mean for negative 109.98)-1)*100 = 29.1%.\n",
    "counter=0\n",
    "percentage_list=[]\n",
    "for mean in positive_means:\n",
    "    precentage=((float(mean)/float(negative_means[counter]))-1)*100\n",
    "    percentage_list.append(precentage)\n",
    "    counter+=1\n",
    "print(\"This is the list of the increased percentual changes:\",percentage_list)\n",
    "columns_list=['Pregnancies', 'Glucose', 'BloodPressure', 'SkinThickness', 'Insulin',\n",
    "       'BMI', 'DiabetesPedigreeFunction', 'Age']\n",
    "counter_2nd=0\n",
    "for each in percentage_list:\n",
    "    print(\"%s percentual increase is %s \" % (columns_list[counter_2nd],each))\n",
    "    counter_2nd+=1"
   ]
  },
  {
   "cell_type": "code",
   "execution_count": 23,
   "id": "6e2d465f-4b8c-43ed-9654-52ee25858ae8",
   "metadata": {
    "tags": []
   },
   "outputs": [],
   "source": [
    "df['age_group'] = pd.cut(df['Age'], bins=3, labels=('young', 'middle', 'old'))"
   ]
  },
  {
   "cell_type": "code",
   "execution_count": 24,
   "id": "f46b1316-d539-43ca-b8f0-473a192c2f25",
   "metadata": {
    "tags": []
   },
   "outputs": [
    {
     "data": {
      "text/html": [
       "<div>\n",
       "<style scoped>\n",
       "    .dataframe tbody tr th:only-of-type {\n",
       "        vertical-align: middle;\n",
       "    }\n",
       "\n",
       "    .dataframe tbody tr th {\n",
       "        vertical-align: top;\n",
       "    }\n",
       "\n",
       "    .dataframe thead th {\n",
       "        text-align: right;\n",
       "    }\n",
       "</style>\n",
       "<table border=\"1\" class=\"dataframe\">\n",
       "  <thead>\n",
       "    <tr style=\"text-align: right;\">\n",
       "      <th></th>\n",
       "      <th>Pregnancies</th>\n",
       "      <th>Glucose</th>\n",
       "      <th>BloodPressure</th>\n",
       "      <th>SkinThickness</th>\n",
       "      <th>Insulin</th>\n",
       "      <th>BMI</th>\n",
       "      <th>DiabetesPedigreeFunction</th>\n",
       "      <th>Age</th>\n",
       "      <th>Outcome</th>\n",
       "      <th>age_group</th>\n",
       "    </tr>\n",
       "  </thead>\n",
       "  <tbody>\n",
       "    <tr>\n",
       "      <th>0</th>\n",
       "      <td>6</td>\n",
       "      <td>148</td>\n",
       "      <td>72</td>\n",
       "      <td>35</td>\n",
       "      <td>0</td>\n",
       "      <td>33.6</td>\n",
       "      <td>0.627</td>\n",
       "      <td>50</td>\n",
       "      <td>1</td>\n",
       "      <td>middle</td>\n",
       "    </tr>\n",
       "    <tr>\n",
       "      <th>1</th>\n",
       "      <td>1</td>\n",
       "      <td>85</td>\n",
       "      <td>66</td>\n",
       "      <td>29</td>\n",
       "      <td>0</td>\n",
       "      <td>26.6</td>\n",
       "      <td>0.351</td>\n",
       "      <td>31</td>\n",
       "      <td>0</td>\n",
       "      <td>young</td>\n",
       "    </tr>\n",
       "    <tr>\n",
       "      <th>2</th>\n",
       "      <td>8</td>\n",
       "      <td>183</td>\n",
       "      <td>64</td>\n",
       "      <td>0</td>\n",
       "      <td>0</td>\n",
       "      <td>23.3</td>\n",
       "      <td>0.672</td>\n",
       "      <td>32</td>\n",
       "      <td>1</td>\n",
       "      <td>young</td>\n",
       "    </tr>\n",
       "    <tr>\n",
       "      <th>3</th>\n",
       "      <td>1</td>\n",
       "      <td>89</td>\n",
       "      <td>66</td>\n",
       "      <td>23</td>\n",
       "      <td>94</td>\n",
       "      <td>28.1</td>\n",
       "      <td>0.167</td>\n",
       "      <td>21</td>\n",
       "      <td>0</td>\n",
       "      <td>young</td>\n",
       "    </tr>\n",
       "    <tr>\n",
       "      <th>4</th>\n",
       "      <td>0</td>\n",
       "      <td>137</td>\n",
       "      <td>40</td>\n",
       "      <td>35</td>\n",
       "      <td>168</td>\n",
       "      <td>43.1</td>\n",
       "      <td>2.288</td>\n",
       "      <td>33</td>\n",
       "      <td>1</td>\n",
       "      <td>young</td>\n",
       "    </tr>\n",
       "  </tbody>\n",
       "</table>\n",
       "</div>"
      ],
      "text/plain": [
       "   Pregnancies  Glucose  BloodPressure  SkinThickness  Insulin   BMI  \\\n",
       "0            6      148             72             35        0  33.6   \n",
       "1            1       85             66             29        0  26.6   \n",
       "2            8      183             64              0        0  23.3   \n",
       "3            1       89             66             23       94  28.1   \n",
       "4            0      137             40             35      168  43.1   \n",
       "\n",
       "   DiabetesPedigreeFunction  Age  Outcome age_group  \n",
       "0                     0.627   50        1    middle  \n",
       "1                     0.351   31        0     young  \n",
       "2                     0.672   32        1     young  \n",
       "3                     0.167   21        0     young  \n",
       "4                     2.288   33        1     young  "
      ]
     },
     "execution_count": 24,
     "metadata": {},
     "output_type": "execute_result"
    }
   ],
   "source": [
    "df.head()   #checking if we have new column age_group at end"
   ]
  },
  {
   "cell_type": "code",
   "execution_count": 25,
   "id": "d412d062-5786-458f-9425-c181a4dea31a",
   "metadata": {
    "tags": []
   },
   "outputs": [],
   "source": [
    "Diabetes=df.query('Outcome==1') #querying just the ones that have diabietes."
   ]
  },
  {
   "cell_type": "code",
   "execution_count": 26,
   "id": "b96b3502-1f65-432a-ba81-561257643317",
   "metadata": {
    "tags": []
   },
   "outputs": [
    {
     "data": {
      "text/html": [
       "<div>\n",
       "<style scoped>\n",
       "    .dataframe tbody tr th:only-of-type {\n",
       "        vertical-align: middle;\n",
       "    }\n",
       "\n",
       "    .dataframe tbody tr th {\n",
       "        vertical-align: top;\n",
       "    }\n",
       "\n",
       "    .dataframe thead th {\n",
       "        text-align: right;\n",
       "    }\n",
       "</style>\n",
       "<table border=\"1\" class=\"dataframe\">\n",
       "  <thead>\n",
       "    <tr style=\"text-align: right;\">\n",
       "      <th></th>\n",
       "      <th>Pregnancies</th>\n",
       "      <th>Glucose</th>\n",
       "      <th>BloodPressure</th>\n",
       "      <th>SkinThickness</th>\n",
       "      <th>Insulin</th>\n",
       "      <th>BMI</th>\n",
       "      <th>DiabetesPedigreeFunction</th>\n",
       "      <th>Age</th>\n",
       "      <th>Outcome</th>\n",
       "    </tr>\n",
       "    <tr>\n",
       "      <th>age_group</th>\n",
       "      <th></th>\n",
       "      <th></th>\n",
       "      <th></th>\n",
       "      <th></th>\n",
       "      <th></th>\n",
       "      <th></th>\n",
       "      <th></th>\n",
       "      <th></th>\n",
       "      <th></th>\n",
       "    </tr>\n",
       "  </thead>\n",
       "  <tbody>\n",
       "    <tr>\n",
       "      <th>young</th>\n",
       "      <td>15</td>\n",
       "      <td>94</td>\n",
       "      <td>34</td>\n",
       "      <td>40</td>\n",
       "      <td>68</td>\n",
       "      <td>115</td>\n",
       "      <td>162</td>\n",
       "      <td>21</td>\n",
       "      <td>1</td>\n",
       "    </tr>\n",
       "    <tr>\n",
       "      <th>middle</th>\n",
       "      <td>17</td>\n",
       "      <td>61</td>\n",
       "      <td>26</td>\n",
       "      <td>29</td>\n",
       "      <td>38</td>\n",
       "      <td>65</td>\n",
       "      <td>78</td>\n",
       "      <td>20</td>\n",
       "      <td>1</td>\n",
       "    </tr>\n",
       "    <tr>\n",
       "      <th>old</th>\n",
       "      <td>4</td>\n",
       "      <td>6</td>\n",
       "      <td>6</td>\n",
       "      <td>3</td>\n",
       "      <td>1</td>\n",
       "      <td>6</td>\n",
       "      <td>6</td>\n",
       "      <td>4</td>\n",
       "      <td>1</td>\n",
       "    </tr>\n",
       "  </tbody>\n",
       "</table>\n",
       "</div>"
      ],
      "text/plain": [
       "           Pregnancies  Glucose  BloodPressure  SkinThickness  Insulin  BMI  \\\n",
       "age_group                                                                     \n",
       "young               15       94             34             40       68  115   \n",
       "middle              17       61             26             29       38   65   \n",
       "old                  4        6              6              3        1    6   \n",
       "\n",
       "           DiabetesPedigreeFunction  Age  Outcome  \n",
       "age_group                                          \n",
       "young                           162   21        1  \n",
       "middle                           78   20        1  \n",
       "old                               6    4        1  "
      ]
     },
     "execution_count": 26,
     "metadata": {},
     "output_type": "execute_result"
    }
   ],
   "source": [
    "Diabetes.groupby('age_group').nunique() #grouping by age-group(new column) which has 3 bins( 3 unique values)."
   ]
  },
  {
   "cell_type": "code",
   "execution_count": 27,
   "id": "1203f63c-74df-4c58-9f41-1666e9d51730",
   "metadata": {
    "tags": []
   },
   "outputs": [
    {
     "data": {
      "text/html": [
       "<div>\n",
       "<style scoped>\n",
       "    .dataframe tbody tr th:only-of-type {\n",
       "        vertical-align: middle;\n",
       "    }\n",
       "\n",
       "    .dataframe tbody tr th {\n",
       "        vertical-align: top;\n",
       "    }\n",
       "\n",
       "    .dataframe thead th {\n",
       "        text-align: right;\n",
       "    }\n",
       "</style>\n",
       "<table border=\"1\" class=\"dataframe\">\n",
       "  <thead>\n",
       "    <tr style=\"text-align: right;\">\n",
       "      <th></th>\n",
       "      <th>Pregnancies</th>\n",
       "      <th>Glucose</th>\n",
       "      <th>BloodPressure</th>\n",
       "      <th>SkinThickness</th>\n",
       "      <th>Insulin</th>\n",
       "      <th>BMI</th>\n",
       "      <th>DiabetesPedigreeFunction</th>\n",
       "      <th>Age</th>\n",
       "      <th>Outcome</th>\n",
       "    </tr>\n",
       "    <tr>\n",
       "      <th>age_group</th>\n",
       "      <th></th>\n",
       "      <th></th>\n",
       "      <th></th>\n",
       "      <th></th>\n",
       "      <th></th>\n",
       "      <th></th>\n",
       "      <th></th>\n",
       "      <th></th>\n",
       "      <th></th>\n",
       "    </tr>\n",
       "  </thead>\n",
       "  <tbody>\n",
       "    <tr>\n",
       "      <th>young</th>\n",
       "      <td>15</td>\n",
       "      <td>94</td>\n",
       "      <td>34</td>\n",
       "      <td>40</td>\n",
       "      <td>68</td>\n",
       "      <td>115</td>\n",
       "      <td>162</td>\n",
       "      <td>21</td>\n",
       "      <td>1</td>\n",
       "    </tr>\n",
       "    <tr>\n",
       "      <th>middle</th>\n",
       "      <td>17</td>\n",
       "      <td>61</td>\n",
       "      <td>26</td>\n",
       "      <td>29</td>\n",
       "      <td>38</td>\n",
       "      <td>65</td>\n",
       "      <td>78</td>\n",
       "      <td>20</td>\n",
       "      <td>1</td>\n",
       "    </tr>\n",
       "    <tr>\n",
       "      <th>old</th>\n",
       "      <td>4</td>\n",
       "      <td>6</td>\n",
       "      <td>6</td>\n",
       "      <td>3</td>\n",
       "      <td>1</td>\n",
       "      <td>6</td>\n",
       "      <td>6</td>\n",
       "      <td>4</td>\n",
       "      <td>1</td>\n",
       "    </tr>\n",
       "  </tbody>\n",
       "</table>\n",
       "</div>"
      ],
      "text/plain": [
       "           Pregnancies  Glucose  BloodPressure  SkinThickness  Insulin  BMI  \\\n",
       "age_group                                                                     \n",
       "young               15       94             34             40       68  115   \n",
       "middle              17       61             26             29       38   65   \n",
       "old                  4        6              6              3        1    6   \n",
       "\n",
       "           DiabetesPedigreeFunction  Age  Outcome  \n",
       "age_group                                          \n",
       "young                           162   21        1  \n",
       "middle                           78   20        1  \n",
       "old                               6    4        1  "
      ]
     },
     "execution_count": 27,
     "metadata": {},
     "output_type": "execute_result"
    }
   ],
   "source": [
    "df.query('Outcome==1').groupby('age_group').nunique() #shorter command for combining both commands mentioned above"
   ]
  },
  {
   "cell_type": "code",
   "execution_count": 28,
   "id": "ad47326c-8d08-4b15-993c-1334dc8632b2",
   "metadata": {
    "tags": []
   },
   "outputs": [
    {
     "data": {
      "text/plain": [
       "<Axes: xlabel='age_group'>"
      ]
     },
     "execution_count": 28,
     "metadata": {},
     "output_type": "execute_result"
    },
    {
     "data": {
      "image/png": "[encoded data removed]",
      "text/plain": [
       "<Figure size 640x480 with 1 Axes>"
      ]
     },
     "metadata": {},
     "output_type": "display_data"
    }
   ],
   "source": [
    "df.query('Outcome==1').groupby('age_group').mean().plot(y='Insulin',color='green',label='diabetes',kind='bar')"
   ]
  },
  {
   "cell_type": "code",
   "execution_count": 30,
   "id": "2d7929b8-d7aa-471e-a527-23e6ed4154e2",
   "metadata": {
    "tags": []
   },
   "outputs": [
    {
     "data": {
      "text/html": [
       "<div>\n",
       "<style scoped>\n",
       "    .dataframe tbody tr th:only-of-type {\n",
       "        vertical-align: middle;\n",
       "    }\n",
       "\n",
       "    .dataframe tbody tr th {\n",
       "        vertical-align: top;\n",
       "    }\n",
       "\n",
       "    .dataframe thead th {\n",
       "        text-align: right;\n",
       "    }\n",
       "</style>\n",
       "<table border=\"1\" class=\"dataframe\">\n",
       "  <thead>\n",
       "    <tr style=\"text-align: right;\">\n",
       "      <th></th>\n",
       "      <th>Pregnancies</th>\n",
       "      <th>Glucose</th>\n",
       "      <th>BloodPressure</th>\n",
       "      <th>SkinThickness</th>\n",
       "      <th>Insulin</th>\n",
       "      <th>BMI</th>\n",
       "      <th>DiabetesPedigreeFunction</th>\n",
       "      <th>Age</th>\n",
       "      <th>Outcome</th>\n",
       "    </tr>\n",
       "    <tr>\n",
       "      <th>age_group</th>\n",
       "      <th></th>\n",
       "      <th></th>\n",
       "      <th></th>\n",
       "      <th></th>\n",
       "      <th></th>\n",
       "      <th></th>\n",
       "      <th></th>\n",
       "      <th></th>\n",
       "      <th></th>\n",
       "    </tr>\n",
       "  </thead>\n",
       "  <tbody>\n",
       "    <tr>\n",
       "      <th>young</th>\n",
       "      <td>14</td>\n",
       "      <td>100</td>\n",
       "      <td>39</td>\n",
       "      <td>45</td>\n",
       "      <td>131</td>\n",
       "      <td>194</td>\n",
       "      <td>327</td>\n",
       "      <td>21</td>\n",
       "      <td>1</td>\n",
       "    </tr>\n",
       "    <tr>\n",
       "      <th>middle</th>\n",
       "      <td>13</td>\n",
       "      <td>50</td>\n",
       "      <td>25</td>\n",
       "      <td>20</td>\n",
       "      <td>18</td>\n",
       "      <td>54</td>\n",
       "      <td>60</td>\n",
       "      <td>20</td>\n",
       "      <td>1</td>\n",
       "    </tr>\n",
       "    <tr>\n",
       "      <th>old</th>\n",
       "      <td>11</td>\n",
       "      <td>18</td>\n",
       "      <td>13</td>\n",
       "      <td>7</td>\n",
       "      <td>3</td>\n",
       "      <td>19</td>\n",
       "      <td>19</td>\n",
       "      <td>10</td>\n",
       "      <td>1</td>\n",
       "    </tr>\n",
       "  </tbody>\n",
       "</table>\n",
       "</div>"
      ],
      "text/plain": [
       "           Pregnancies  Glucose  BloodPressure  SkinThickness  Insulin  BMI  \\\n",
       "age_group                                                                     \n",
       "young               14      100             39             45      131  194   \n",
       "middle              13       50             25             20       18   54   \n",
       "old                 11       18             13              7        3   19   \n",
       "\n",
       "           DiabetesPedigreeFunction  Age  Outcome  \n",
       "age_group                                          \n",
       "young                           327   21        1  \n",
       "middle                           60   20        1  \n",
       "old                              19   10        1  "
      ]
     },
     "execution_count": 30,
     "metadata": {},
     "output_type": "execute_result"
    }
   ],
   "source": [
    "Non_Diabetes=df.query('Outcome==0').groupby('age_group').nunique()\n",
    "Non_Diabetes"
   ]
  },
  {
   "cell_type": "code",
   "execution_count": 31,
   "id": "fc504525-cd86-4889-9dfa-42502dd9a3a4",
   "metadata": {
    "tags": []
   },
   "outputs": [
    {
     "data": {
      "text/plain": [
       "<Axes: xlabel='age_group'>"
      ]
     },
     "execution_count": 31,
     "metadata": {},
     "output_type": "execute_result"
    },
    {
     "data": {
      "image/png": "[encoded data removed]",
      "text/plain": [
       "<Figure size 640x480 with 1 Axes>"
      ]
     },
     "metadata": {},
     "output_type": "display_data"
    }
   ],
   "source": [
    "df.query('Outcome==0').groupby('age_group').mean().plot(y='Insulin',color='blue',label='non-diabetes',kind='bar')"
   ]
  },
  {
   "cell_type": "markdown",
   "id": "ff9e479a-fa67-458b-8c07-4f69ea45988e",
   "metadata": {},
   "source": [
    "Exercise 3\n",
    "\n",
    "For this exercise, you should first start the Redis container without persistence.\n",
    "\n",
    "Take the SQLite database called aminoacids_pubchem.sqlite which can be extracted from https://pubchem.ncbi.nlm.nih.gov/compound/Amino-acid_Tyr-_-Trp-_-Phe-_-Leu. This SQL database has a single table, called aminoacids, containing 20 aminoacids with some of their characteristics.\n",
    "\n",
    "Write and then run code that does the following:\n",
    "\n",
    "Read all the records of the DB into a pandas data frame.\n",
    "\n",
    "The column called CID contains the Pubchem Compound identification number (CID) for each aminoacid. Loop through the CIDs and querying the REST endpoint https://pubchem.ncbi.nlm.nih.gov/rest/pug/compound/cid/XXX/property/MolecularWeight/JSON (replace XXX with the various CIDs), which returns output in JSON format, fetch the molecular weight for each aminoacid. Similarly, loop and query the REST endpoint https://pubchem.ncbi.nlm.nih.gov/rest/pug/compound/cid/XXX/property/IUPACName/JSON (replace XXX with the various CIDs), and fetch the corresponding IUPAC names.\n",
    "Then, for each aminoacid, print its name as found in the SQLite database, its molecular weight (from the first REST call above and its IUPAC name (from the second REST call above). \n",
    "For instance, the output for Alanine should be Alanine 89.09 2-aminopropanoic acid\n",
    "\n",
    "In a Redis database, create keys called ID:<NAME>, where <NAME> is the name of each aminoacid as found in the SQLite database. So, you should have keys called \"ID:Alanine\", \"ID:Arginine\", etc. The values associated to these keys should be a hash (a dictionary) that for each aminoacid stores polarity, hydrophobicity, weight, iupac name.\n",
    "For instance, the key called \"ID:Alanine\" should map to the hash {polarity:0, hydro:1.8, weight:89.09, iupac:'2-aminopropanoic acid'}. \n",
    "Make sure you start with a Redis database with no initial keys.\n",
    "When done, querying the Redis database, print all the info stored in Redis for the aminoacid Glutamate.\n"
   ]
  },
  {
   "cell_type": "code",
   "execution_count": 32,
   "id": "b4ae6e97-95be-4557-80aa-5af33a28c2bd",
   "metadata": {
    "tags": []
   },
   "outputs": [],
   "source": [
    "import sqlite3 as sql\n",
    "\n",
    "# create a connection to the DB\n",
    "# if the DB does not exist, it will be created\n",
    "# verify that after this statement you now have the DB file on your system\n",
    "conn = sql.connect('aminoacids_pubchem.sqlite')"
   ]
  },
  {
   "cell_type": "code",
   "execution_count": 33,
   "id": "c0b84abd-9121-43e1-804a-13470a3b5911",
   "metadata": {
    "tags": []
   },
   "outputs": [],
   "source": [
    "cur = conn.cursor()"
   ]
  },
  {
   "cell_type": "code",
   "execution_count": 34,
   "id": "b3fa673c-9a50-4faa-8bc8-a7161c82aa46",
   "metadata": {
    "tags": []
   },
   "outputs": [
    {
     "name": "stdout",
     "output_type": "stream",
     "text": [
      "<class 'pandas.core.frame.DataFrame'>\n",
      "RangeIndex: 20 entries, 0 to 19\n",
      "Data columns (total 6 columns):\n",
      " #   Column    Non-Null Count  Dtype  \n",
      "---  ------    --------------  -----  \n",
      " 0   name      20 non-null     object \n",
      " 1   long      20 non-null     object \n",
      " 2   short     20 non-null     object \n",
      " 3   polarity  20 non-null     int64  \n",
      " 4   hydro     20 non-null     float64\n",
      " 5   CID       20 non-null     int64  \n",
      "dtypes: float64(1), int64(2), object(3)\n",
      "memory usage: 1.1+ KB\n"
     ]
    }
   ],
   "source": [
    "database_df = pd.read_sql_query('SELECT * FROM aminoacids', conn)\n",
    "database_df.info()"
   ]
  },
  {
   "cell_type": "code",
   "execution_count": 35,
   "id": "f2448237-eb76-4e10-96f6-916b2f6b2355",
   "metadata": {
    "tags": []
   },
   "outputs": [
    {
     "data": {
      "text/html": [
       "<div>\n",
       "<style scoped>\n",
       "    .dataframe tbody tr th:only-of-type {\n",
       "        vertical-align: middle;\n",
       "    }\n",
       "\n",
       "    .dataframe tbody tr th {\n",
       "        vertical-align: top;\n",
       "    }\n",
       "\n",
       "    .dataframe thead th {\n",
       "        text-align: right;\n",
       "    }\n",
       "</style>\n",
       "<table border=\"1\" class=\"dataframe\">\n",
       "  <thead>\n",
       "    <tr style=\"text-align: right;\">\n",
       "      <th></th>\n",
       "      <th>name</th>\n",
       "      <th>long</th>\n",
       "      <th>short</th>\n",
       "      <th>polarity</th>\n",
       "      <th>hydro</th>\n",
       "      <th>CID</th>\n",
       "    </tr>\n",
       "  </thead>\n",
       "  <tbody>\n",
       "    <tr>\n",
       "      <th>0</th>\n",
       "      <td>Alanine</td>\n",
       "      <td>Ala</td>\n",
       "      <td>A</td>\n",
       "      <td>0</td>\n",
       "      <td>1.8</td>\n",
       "      <td>602</td>\n",
       "    </tr>\n",
       "    <tr>\n",
       "      <th>1</th>\n",
       "      <td>Arginine</td>\n",
       "      <td>Arg</td>\n",
       "      <td>R</td>\n",
       "      <td>1</td>\n",
       "      <td>-4.5</td>\n",
       "      <td>6322</td>\n",
       "    </tr>\n",
       "    <tr>\n",
       "      <th>2</th>\n",
       "      <td>Asparagine</td>\n",
       "      <td>Asn</td>\n",
       "      <td>N</td>\n",
       "      <td>1</td>\n",
       "      <td>-3.5</td>\n",
       "      <td>6267</td>\n",
       "    </tr>\n",
       "    <tr>\n",
       "      <th>3</th>\n",
       "      <td>Aspartate</td>\n",
       "      <td>Asp</td>\n",
       "      <td>D</td>\n",
       "      <td>1</td>\n",
       "      <td>-3.5</td>\n",
       "      <td>5960</td>\n",
       "    </tr>\n",
       "    <tr>\n",
       "      <th>4</th>\n",
       "      <td>Cysteine</td>\n",
       "      <td>Cys</td>\n",
       "      <td>C</td>\n",
       "      <td>0</td>\n",
       "      <td>2.5</td>\n",
       "      <td>594</td>\n",
       "    </tr>\n",
       "  </tbody>\n",
       "</table>\n",
       "</div>"
      ],
      "text/plain": [
       "         name long short  polarity  hydro   CID\n",
       "0     Alanine  Ala     A         0    1.8   602\n",
       "1    Arginine  Arg     R         1   -4.5  6322\n",
       "2  Asparagine  Asn     N         1   -3.5  6267\n",
       "3   Aspartate  Asp     D         1   -3.5  5960\n",
       "4    Cysteine  Cys     C         0    2.5   594"
      ]
     },
     "execution_count": 35,
     "metadata": {},
     "output_type": "execute_result"
    }
   ],
   "source": [
    "database_df.head()"
   ]
  },
  {
   "cell_type": "code",
   "execution_count": 36,
   "id": "dfc3be62-08ff-45c2-a735-716a7009f0ae",
   "metadata": {
    "tags": []
   },
   "outputs": [
    {
     "data": {
      "text/plain": [
       "(20, 6)"
      ]
     },
     "execution_count": 36,
     "metadata": {},
     "output_type": "execute_result"
    }
   ],
   "source": [
    "database_df.shape #3.1 is finished it has 6 columns and 20 rows "
   ]
  },
  {
   "cell_type": "code",
   "execution_count": 37,
   "id": "c989a85b-4708-4ac0-94b9-9c602f5b0567",
   "metadata": {
    "tags": []
   },
   "outputs": [
    {
     "name": "stdout",
     "output_type": "stream",
     "text": [
      "[602, 6322, 6267, 5960, 594, 5961, 33032, 750, 6274, 6306, 6106, 5962, 876, 6140, 145742, 5951, 6288, 6305, 6057, 6287]\n"
     ]
    }
   ],
   "source": [
    "cids = []\n",
    "for element in database_df[\"CID\"]:   #creating the list of cids\n",
    "    cids.append(element)\n",
    "print(cids)"
   ]
  },
  {
   "cell_type": "code",
   "execution_count": 38,
   "id": "69165ccc-88d9-427c-92cf-b7b9cd58e608",
   "metadata": {
    "tags": []
   },
   "outputs": [
    {
     "name": "stdout",
     "output_type": "stream",
     "text": [
      "Alanine 89.09 2-aminopropanoic acid\n",
      "Arginine 174.20 (2S)-2-amino-5-(diaminomethylideneamino)pentanoic acid\n",
      "Asparagine 132.12 (2S)-2,4-diamino-4-oxobutanoic acid\n",
      "Aspartate 133.10 (2S)-2-aminobutanedioic acid\n",
      "Cysteine 121.16 2-amino-3-sulfanylpropanoic acid\n",
      "Glutamine 146.14 (2S)-2,5-diamino-5-oxopentanoic acid\n",
      "Glutamate 147.13 (2S)-2-aminopentanedioic acid\n",
      "Glycine 75.07 2-aminoacetic acid\n",
      "Histidine 155.15 (2S)-2-amino-3-(1H-imidazol-5-yl)propanoic acid\n",
      "Isoleucine 131.17 (2S,3S)-2-amino-3-methylpentanoic acid\n",
      "Leucine 131.17 (2S)-2-amino-4-methylpentanoic acid\n",
      "Lysine 146.19 (2S)-2,6-diaminohexanoic acid\n",
      "Methionine 149.21 2-amino-4-methylsulfanylbutanoic acid\n",
      "Phenylalanine 165.19 (2S)-2-amino-3-phenylpropanoic acid\n",
      "Proline 115.13 (2S)-pyrrolidine-2-carboxylic acid\n",
      "Serine 105.09 (2S)-2-amino-3-hydroxypropanoic acid\n",
      "Threonine 119.12 (2S,3R)-2-amino-3-hydroxybutanoic acid\n",
      "Tryptophan 204.22 (2S)-2-amino-3-(1H-indol-3-yl)propanoic acid\n",
      "Tyrosine 181.19 (2S)-2-amino-3-(4-hydroxyphenyl)propanoic acid\n",
      "Valine 117.15 (2S)-2-amino-3-methylbutanoic acid\n"
     ]
    }
   ],
   "source": [
    "import requests\n",
    "counter_3rd=0\n",
    "amionacid_names_list=database_df['name']\n",
    "for each in cids:                 #looping thrught cids\n",
    "    r = requests.get(\"https://pubchem.ncbi.nlm.nih.gov/rest/pug/compound/cid/%s/property/MolecularWeight/JSON\" %(each))\n",
    "    s = requests.get(\"https://pubchem.ncbi.nlm.nih.gov/rest/pug/compound/cid/%s/property/IUPACName/JSON\" %(each))\n",
    "    data1=r.json()  #converting it into python dict\n",
    "    data2=s.json()  #converting into python dict\n",
    "    print(amionacid_names_list[counter_3rd],data1['PropertyTable']['Properties'][0]['MolecularWeight'],data2['PropertyTable']['Properties'][0]['IUPACName'])\n",
    "    #extracting from python dict right values! and priting as it showed in example\n",
    "    counter_3rd+=1 "
   ]
  },
  {
   "cell_type": "code",
   "execution_count": 40,
   "id": "e5d183a1-be16-4d29-8827-e96f62396f92",
   "metadata": {
    "tags": []
   },
   "outputs": [
    {
     "name": "stdout",
     "output_type": "stream",
     "text": [
      "Requirement already satisfied: redis in /opt/conda/lib/python3.10/site-packages (4.6.0)\n",
      "Requirement already satisfied: async-timeout>=4.0.2 in /opt/conda/lib/python3.10/site-packages (from redis) (4.0.2)\n",
      "True\n"
     ]
    }
   ],
   "source": [
    "! pip install redis\n",
    "import redis\n",
    "red= redis.Redis(host=\"my_redis\", decode_responses=True)  #my redis is a docker container \n",
    "red.flushall()    #delete all keys\n",
    "print(red.ping())  #checking if connection is okay"
   ]
  },
  {
   "cell_type": "code",
   "execution_count": 41,
   "id": "93ccf9de-079e-4a7c-8248-75a2de86a6dc",
   "metadata": {
    "tags": []
   },
   "outputs": [
    {
     "name": "stdout",
     "output_type": "stream",
     "text": [
      "{'polarity': 0.0, 'hydrophobicity': 1.8, 'weight': 89.09, 'iupac': '2-aminopropanoic acid'}\n",
      "{'polarity': 1.0, 'hydrophobicity': -4.5, 'weight': 174.2, 'iupac': '(2S)-2-amino-5-(diaminomethylideneamino)pentanoic acid'}\n",
      "{'polarity': 1.0, 'hydrophobicity': -3.5, 'weight': 132.12, 'iupac': '(2S)-2,4-diamino-4-oxobutanoic acid'}\n",
      "{'polarity': 1.0, 'hydrophobicity': -3.5, 'weight': 133.1, 'iupac': '(2S)-2-aminobutanedioic acid'}\n",
      "{'polarity': 0.0, 'hydrophobicity': 2.5, 'weight': 121.16, 'iupac': '2-amino-3-sulfanylpropanoic acid'}\n",
      "{'polarity': 1.0, 'hydrophobicity': -3.5, 'weight': 146.14, 'iupac': '(2S)-2,5-diamino-5-oxopentanoic acid'}\n",
      "{'polarity': 1.0, 'hydrophobicity': -3.5, 'weight': 147.13, 'iupac': '(2S)-2-aminopentanedioic acid'}\n",
      "{'polarity': 0.0, 'hydrophobicity': -0.4, 'weight': 75.07, 'iupac': '2-aminoacetic acid'}\n",
      "{'polarity': 1.0, 'hydrophobicity': -3.2, 'weight': 155.15, 'iupac': '(2S)-2-amino-3-(1H-imidazol-5-yl)propanoic acid'}\n",
      "{'polarity': 0.0, 'hydrophobicity': 4.5, 'weight': 131.17, 'iupac': '(2S,3S)-2-amino-3-methylpentanoic acid'}\n",
      "{'polarity': 0.0, 'hydrophobicity': 3.8, 'weight': 131.17, 'iupac': '(2S)-2-amino-4-methylpentanoic acid'}\n",
      "{'polarity': 1.0, 'hydrophobicity': -3.9, 'weight': 146.19, 'iupac': '(2S)-2,6-diaminohexanoic acid'}\n",
      "{'polarity': 0.0, 'hydrophobicity': 1.9, 'weight': 149.21, 'iupac': '2-amino-4-methylsulfanylbutanoic acid'}\n",
      "{'polarity': 0.0, 'hydrophobicity': 2.8, 'weight': 165.19, 'iupac': '(2S)-2-amino-3-phenylpropanoic acid'}\n",
      "{'polarity': 0.0, 'hydrophobicity': -1.6, 'weight': 115.13, 'iupac': '(2S)-pyrrolidine-2-carboxylic acid'}\n",
      "{'polarity': 1.0, 'hydrophobicity': -0.8, 'weight': 105.09, 'iupac': '(2S)-2-amino-3-hydroxypropanoic acid'}\n",
      "{'polarity': 1.0, 'hydrophobicity': -0.7, 'weight': 119.12, 'iupac': '(2S,3R)-2-amino-3-hydroxybutanoic acid'}\n",
      "{'polarity': 0.0, 'hydrophobicity': -0.9, 'weight': 204.22, 'iupac': '(2S)-2-amino-3-(1H-indol-3-yl)propanoic acid'}\n",
      "{'polarity': 1.0, 'hydrophobicity': -1.3, 'weight': 181.19, 'iupac': '(2S)-2-amino-3-(4-hydroxyphenyl)propanoic acid'}\n",
      "{'polarity': 0.0, 'hydrophobicity': 4.2, 'weight': 117.15, 'iupac': '(2S)-2-amino-3-methylbutanoic acid'}\n"
     ]
    },
    {
     "data": {
      "text/plain": [
       "{'polarity': '1.0',\n",
       " 'hydrophobicity': '-3.5',\n",
       " 'weight': '147.13',\n",
       " 'iupac': '(2S)-2-aminopentanedioic acid'}"
      ]
     },
     "execution_count": 41,
     "metadata": {},
     "output_type": "execute_result"
    }
   ],
   "source": [
    "counter_4th=0\n",
    "for each in cids:\n",
    "    my_dict={}\n",
    "    r = requests.get(\"https://pubchem.ncbi.nlm.nih.gov/rest/pug/compound/cid/%s/property/MolecularWeight/JSON\" %(each))\n",
    "    s = requests.get(\"https://pubchem.ncbi.nlm.nih.gov/rest/pug/compound/cid/%s/property/IUPACName/JSON\" %(each))\n",
    "    data1=r.json()  #converting it into python dict\n",
    "    data2=s.json()  #converting into python dict                      \n",
    "    my_dict[\"polarity\"] = float(database_df[\"polarity\"][counter_4th])                 #Extracting the needed data for polarity\n",
    "    my_dict[\"hydrophobicity\"] = float(database_df[\"hydro\"][counter_4th])              #Extracting the needed data for hydropnicity\n",
    "    my_dict[\"weight\"] = float(data1[\"PropertyTable\"][\"Properties\"][0][\"MolecularWeight\"])  \n",
    "    my_dict[\"iupac\"] = data2[\"PropertyTable\"][\"Properties\"][0][\"IUPACName\"]\n",
    "    print(my_dict)\n",
    "    red.hset(\"ID:\"+amionacid_names_list[counter_4th], mapping = my_dict)            #connecting ID:name key with dict! \n",
    "    counter_4th+=1                                                            \n",
    "red.hgetall(\"ID:Glutamate\")                          #checking if all information is mapped correctly"
   ]
  },
  {
   "cell_type": "code",
   "execution_count": null,
   "id": "3276caea-1e23-44e0-a117-c9131d5786e2",
   "metadata": {},
   "outputs": [],
   "source": []
  }
 ],
 "metadata": {
  "kernelspec": {
   "display_name": "Python 3 (ipykernel)",
   "language": "python",
   "name": "python3"
  },
  "language_info": {
   "codemirror_mode": {
    "name": "ipython",
    "version": 3
   },
   "file_extension": ".py",
   "mimetype": "text/x-python",
   "name": "python",
   "nbconvert_exporter": "python",
   "pygments_lexer": "ipython3",
   "version": "3.10.9"
  }
 },
 "nbformat": 4,
 "nbformat_minor": 5
}
